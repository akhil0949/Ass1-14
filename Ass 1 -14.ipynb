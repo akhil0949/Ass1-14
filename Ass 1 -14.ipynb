{
  "metadata": {
    "language_info": {
      "name": ""
    },
    "kernelspec": {
      "name": "",
      "display_name": ""
    }
  },
  "nbformat_minor": 4,
  "nbformat": 4,
  "cells": [
    {
      "cell_type": "code",
      "source": "1. What does RGBA stand for?\nRGBA RED GREEN BLUE Alpha",
      "metadata": {},
      "execution_count": null,
      "outputs": []
    },
    {
      "cell_type": "code",
      "source": "2. From the Pillow module, how do you get the RGBA value of any images?\nfrom PIL import ImageColor\nImageColor.getcolor('red', 'RGBA')\nImageColor.getcolor('Black', 'RGBA')",
      "metadata": {},
      "execution_count": null,
      "outputs": []
    },
    {
      "cell_type": "code",
      "source": "3. Use your image and load in notebook then, How can you find out the width and height of an Image object?\nfrom PIL import Image\nimg = Image.open('ganesha.jpg')\nimg.size",
      "metadata": {},
      "execution_count": null,
      "outputs": []
    },
    {
      "cell_type": "code",
      "source": "4. What method would you call to get Image object for a 100×100 image, excluding the lower-left quarter of it?\nimg_resiz = img.resize((100,100))",
      "metadata": {},
      "execution_count": null,
      "outputs": []
    },
    {
      "cell_type": "code",
      "source": "5. After making changes to an Image object, how could you save it as an image file?\nimg_resiz.save('ganesh.jpg')",
      "metadata": {},
      "execution_count": null,
      "outputs": []
    },
    {
      "cell_type": "code",
      "source": "6. What module contains Pillow’s shape-drawing code?\nImageDraw()",
      "metadata": {},
      "execution_count": null,
      "outputs": []
    },
    {
      "cell_type": "code",
      "source": "7. Image objects do not have drawing methods. What kind of object does? How do you get this kind of object?\nImageColor from pillow",
      "metadata": {},
      "execution_count": null,
      "outputs": []
    },
    {
      "cell_type": "code",
      "source": "",
      "metadata": {},
      "execution_count": null,
      "outputs": []
    },
    {
      "cell_type": "code",
      "source": "",
      "metadata": {},
      "execution_count": null,
      "outputs": []
    },
    {
      "cell_type": "code",
      "source": "",
      "metadata": {},
      "execution_count": null,
      "outputs": []
    },
    {
      "cell_type": "code",
      "source": "",
      "metadata": {},
      "execution_count": null,
      "outputs": []
    },
    {
      "cell_type": "code",
      "source": "",
      "metadata": {},
      "execution_count": null,
      "outputs": []
    },
    {
      "cell_type": "code",
      "source": "",
      "metadata": {},
      "execution_count": null,
      "outputs": []
    }
  ]
}